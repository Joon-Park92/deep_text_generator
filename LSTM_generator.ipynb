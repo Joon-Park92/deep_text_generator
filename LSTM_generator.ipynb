{
 "cells": [
  {
   "cell_type": "markdown",
   "metadata": {},
   "source": [
    "# LSTM 기반으로 Script를 생성하는 모델 만들기"
   ]
  },
  {
   "cell_type": "code",
   "execution_count": 1,
   "metadata": {},
   "outputs": [],
   "source": [
    "import os\n",
    "import tensorflow as tf\n",
    "import numpy as np\n",
    "import sys\n",
    "import matplotlib.pyplot as plt\n",
    "import seaborn as sns\n",
    "\n",
    "from glob import glob\n",
    "from tqdm import tqdm\n",
    "from tqdm import trange\n",
    "from tensorflow.python.ops.rnn_cell_impl import RNNCell\n",
    "from collections import Counter, namedtuple\n",
    "\n",
    "os.environ[\"CUDA_DEVICE_ORDER\"]=\"PCI_BUS_ID\"\n",
    "os.environ[\"CUDA_VISIBLE_DEVICES\"]=\"0\""
   ]
  },
  {
   "cell_type": "markdown",
   "metadata": {},
   "source": [
    "### LSTM Cell 을 정의합니다"
   ]
  },
  {
   "cell_type": "code",
   "execution_count": 2,
   "metadata": {},
   "outputs": [],
   "source": [
    "class LstmStates(\n",
    "    namedtuple(\"LstmStates\", (\"c_state\", \"h_state\"))):\n",
    "    pass\n",
    "\n",
    "class MyLSTMCell(RNNCell):\n",
    "    \n",
    "    def __init__(self, num_units, name):\n",
    "        super(MyLSTMCell, self).__init__(name=name)\n",
    "        self.num_units = num_units\n",
    "        self._custom_name = name\n",
    "    \n",
    "    def zero_state(self, batch_size, dtype=tf.float32):\n",
    "        state = tf.tile(tf.zeros([1, self.num_units]), [batch_size, 1])        \n",
    "        return LstmStates(state, state)\n",
    "\n",
    "    def __call__(self, x, state):\n",
    "        with tf.variable_scope(self._custom_name, reuse=tf.AUTO_REUSE):\n",
    "            c, h = state\n",
    "            \n",
    "            inputs = tf.concat([x, h], axis=-1)            \n",
    "            \n",
    "            f_gate = tf.layers.dense(inputs, self.num_units, activation=tf.nn.sigmoid, use_bias=True, name='forget_gate')\n",
    "            i_gate = tf.layers.dense(inputs, self.num_units, activation=tf.nn.sigmoid, use_bias=True, name='input_gate')            \n",
    "            o_gate = tf.layers.dense(inputs, self.num_units, activation=tf.nn.sigmoid, use_bias=True, name='output_gate')\n",
    "            g_gate = tf.layers.dense(inputs, self.num_units, activation=tf.nn.tanh, use_bias=True, name='gain_gate')\n",
    "                        \n",
    "            new_c = f_gate * c + i_gate * g_gate\n",
    "            new_h = o_gate * tf.nn.tanh(new_c)\n",
    "                        \n",
    "            return new_h, LstmStates(new_c, new_h)\n",
    "        \n",
    "    @property\n",
    "    def state_size(self):\n",
    "        return LstmStates(self.num_units, self.num_units)\n",
    "\n",
    "    @property\n",
    "    def output_size(self):\n",
    "        return self.num_units"
   ]
  },
  {
   "cell_type": "code",
   "execution_count": 3,
   "metadata": {},
   "outputs": [],
   "source": [
    "def read_txt():\n",
    "    data = \"\"\n",
    "    for text in glob('./Tozi/*.txt'):\n",
    "        with open(text, 'r', encoding='euc-kr', errors='ignore') as f:\n",
    "            data += f.read().strip()\n",
    "    return data.split('\\n')"
   ]
  },
  {
   "cell_type": "markdown",
   "metadata": {},
   "source": [
    "###  데이터를 읽습니다."
   ]
  },
  {
   "cell_type": "code",
   "execution_count": 4,
   "metadata": {},
   "outputs": [],
   "source": [
    "data = read_txt()"
   ]
  },
  {
   "cell_type": "code",
   "execution_count": 5,
   "metadata": {},
   "outputs": [
    {
     "name": "stdout",
     "output_type": "stream",
     "text": [
      "\"옷이 날개라 카더마는 채리고 나서리 제법 사람 같고나.\"\n",
      "옷발이야 굵겠지만 명색이 모시라, 모시 중의 적삼을 입고 대님을  치고 흰 고무신에다 생고사 조끼까지 입은 \n",
      "귀남애비는 어디로 가는지 두 활개를 치며 걸어 내려가는 것이었다. 그의 모습아 시야에서 사라지자 천일어매\n",
      "가 말했다.\n",
      "\"죽은 우리 천일아배도 그런 말을 들었다마는 귀남애비 저 사람도 소다 소.  이마에 소 우 짜 붙이고 사는 사\n",
      "람이다.\"\n",
      "\"그래도 성자할무이가 잘했이니 동네서 인심은 안 잃었제요.\"\n",
      "\"내가 머 잘한 것도 없다마는 하도 남정네가 말썽을 피고 댕긴께 감당은 내가 해야지 우짤 기고, 밖에서 미련\n",
      "하믄 안에서 사지역지해야, 자식 키우는 사람이 남의 입질에 오리내리는 것도 좋지 않제.\"\n",
      "역지사지를 반대로 말한 것이나 처지를 바꾸어 생각하는, 즉 이해한다는 뜻힌데 위에 오르고 아래로 내려왔다 \n"
     ]
    }
   ],
   "source": [
    "for line in data[1500:1510]:\n",
    "    print(line)"
   ]
  },
  {
   "cell_type": "markdown",
   "metadata": {},
   "source": [
    "### 간단한 데이터 분석을 진행합니다"
   ]
  },
  {
   "cell_type": "code",
   "execution_count": 6,
   "metadata": {},
   "outputs": [
    {
     "data": {
      "text/plain": [
       "160451"
      ]
     },
     "execution_count": 6,
     "metadata": {},
     "output_type": "execute_result"
    }
   ],
   "source": [
    "len(data)"
   ]
  },
  {
   "cell_type": "code",
   "execution_count": 7,
   "metadata": {},
   "outputs": [],
   "source": [
    "minimum_freq = 500\n",
    "\n",
    "cnt = Counter([char for line in read_txt() for char in line])\n",
    "stop_words = [char for char, freq in cnt.items() if freq < minimum_freq]\n",
    "use_words = sorted([item for item, _ in cnt.items() if item not in stop_words])"
   ]
  },
  {
   "cell_type": "code",
   "execution_count": 8,
   "metadata": {
    "scrolled": false
   },
   "outputs": [
    {
     "name": "stdout",
     "output_type": "stream",
     "text": [
      "[(' ', 1135877), ('.', 156711), ('이', 150460), ('다', 120302), ('\"', 117405), ('는', 103507), ('고', 70267), ('가', 68953), ('을', 67224), ('지', 62315), ('하', 60222), ('그', 59021), ('에', 57039), ('아', 53121), ('은', 50688), ('어', 48442), ('서', 46867), ('나', 44606), (',', 44043), ('도', 42444), ('기', 36861), ('한', 35083), ('의', 35037), ('리', 34771), ('니', 34273), ('사', 31110), ('었', 29664), ('라', 28472), ('것', 28359), ('들', 28080), ('를', 27975), ('로', 27215), ('있', 25801), ('자', 25666), ('?', 25418), ('으', 23930), ('말', 23085), ('게', 22836), ('만', 21739), ('일', 21496), ('요', 21108), ('인', 20144), ('시', 19658), ('마', 19456), ('소', 18516), ('보', 18164), ('내', 17572), ('오', 17251), ('수', 17241), ('없', 17025), ('거', 16330), ('해', 16195), ('했', 15972), ('상', 15444), ('러', 15251), ('까', 14724), ('부', 14691), ('면', 14471), ('여', 14335), ('무', 14202), ('야', 14136), ('모', 13800), ('생', 13734), ('구', 13412), ('데', 13375), ('대', 12852), ('주', 12780), ('안', 12689), ('신', 11860), ('우', 11391), ('장', 11243), ('정', 11214), ('며', 11066), ('람', 10774), ('네', 10271), ('던', 10101), ('려', 9885), ('두', 9759), ('간', 9721), ('같', 9492), ('았', 9481), ('선', 9353), ('할', 9218), ('치', 9146), ('제', 9105), ('방', 8962), ('않', 8942), ('물', 8543), ('집', 8457), ('문', 8453), ('때', 8426), ('동', 8371), ('!', 8097), ('음', 8080), ('각', 7951), ('더', 7851), ('조', 7743), ('바', 7528), ('겠', 7212), ('와', 7209)]\n"
     ]
    }
   ],
   "source": [
    "print(cnt.most_common()[:100])"
   ]
  },
  {
   "cell_type": "code",
   "execution_count": 9,
   "metadata": {},
   "outputs": [
    {
     "name": "stdout",
     "output_type": "stream",
     "text": [
      "['4', '솔', '례', '7', '8', '9', '류', '0', '5', '6', '페', '뇌', '얀', '햇', '탁', 'ㅣ', '찰', '팽', '쾅', '즐', '엿', '귓', '꼭', '츰', '휩', '징', '켰', '뽑', '핏', '퓨', '넌', '쨌', '쎄', 'd', 'l', 't', 'k', 'g', 'r', 's', '겐', '혁', '맣', '압', '꽂', '힐', '룻', '벅', '떼', '북', '혐', '놨', '효', '셈', '꿎', '겪', '덮', '멸', '잽', '푹', '짤', '턱', '삿', '빤', '빼', '앗', '꿍', '앓', '땀', '뽀', '잇', '잤', '괘', '씸', '놔', '낳', '쏟', '죠', '짊', '뉘', '웬', '맏', '특', '굳', '짇', '틈', '녹', '싱', '꽤', '룬', '롸', 'G', '념', '퇴', '닫', '칭', '썰', '젤', '섧', '깎', '뻬', '앵', '텀', '깡', '찼', '꼍', '쬐', '짚', '탕', '릿', '헹', '펜', '덤', '협', '냈', '봤', '콱', '푼', '탓', '珦', '꼈', '썼', '짖', '닙', '케', '볶', '끗', '븐', '깃', '벼', '룩', '똥', '빰', '짱', '닦', '춘', '깜', '씩', '…', '쿠', '샛', '밉', '콩', '팥', '끈', '흩', '묶', '껏', '돋', '썩']\n"
     ]
    }
   ],
   "source": [
    "print(stop_words[:150])"
   ]
  },
  {
   "cell_type": "code",
   "execution_count": 10,
   "metadata": {},
   "outputs": [
    {
     "name": "stdout",
     "output_type": "stream",
     "text": [
      "[' ', '!', '\"', \"'\", '(', ')', ',', '.', '1', '2', '3', ':', '?', '“', '”', '가', '각', '간', '갈', '감', '갑', '갔', '강', '갖', '같', '개', '객', '거', '걱', '건', '걷', '걸', '겁', '것', '겄', '겉', '게', '겠', '겨', '격', '견', '결', '경', '계', '고', '곡', '곤', '골', '곳', '공', '과', '관', '광', '괴', '교', '구', '국', '군', '굴', '권', '귀', '그', '극', '근', '글', '금', '급', '기', '긴', '길', '김', '깊', '까', '깔', '깨', '꺼', '께', '꼬', '꼴', '꾸', '꾼', '꿈', '끄', '끌', '끔', '끝', '끼', '낀', '나', '낙', '난', '날', '남', '났', '낮', '내', '낸', '냐', '냥', '너', '넘', '넣', '네', '녀', '녁', '년', '노', '놀', '놈', '농', '놓', '누', '눈', '느', '는', '늘', '늙', '능', '니', '닌', '닐', '님', '다', '닥', '단', '달', '담', '답', '당', '대', '댁', '더', '덕', '던', '덩', '데', '도', '독', '돈', '돌', '동', '돼', '됐', '되', '된', '될', '두', '둑', '둘', '둥']\n"
     ]
    }
   ],
   "source": [
    "print(use_words[:150])"
   ]
  },
  {
   "cell_type": "markdown",
   "metadata": {},
   "source": [
    "### 학습에 필요한 토큰들을 정의하고 단어에 넣습니다"
   ]
  },
  {
   "cell_type": "code",
   "execution_count": 8,
   "metadata": {},
   "outputs": [],
   "source": [
    "PAD = \"<PAD>\"\n",
    "PAD_ID = 0 \n",
    "\n",
    "UNK = \"<UNK>\"\n",
    "UNK_ID = 1\n",
    "\n",
    "SOS = \"<SOS>\"\n",
    "SOS_ID = 2\n",
    "\n",
    "EOS = \"<EOS>\"\n",
    "EOS_ID = 3"
   ]
  },
  {
   "cell_type": "code",
   "execution_count": 9,
   "metadata": {},
   "outputs": [],
   "source": [
    "word2int = {PAD:PAD_ID, UNK:UNK_ID, SOS:SOS_ID, EOS:EOS_ID}\n",
    "word2int.update({char: idx for idx, char in enumerate(use_words, EOS_ID + 1)})\n",
    "int2word = {idx : char for char, idx in word2int.items()}"
   ]
  },
  {
   "cell_type": "code",
   "execution_count": 13,
   "metadata": {},
   "outputs": [
    {
     "name": "stdout",
     "output_type": "stream",
     "text": [
      "KEY: 곤 / VALUE : 50\n",
      "KEY: 골 / VALUE : 51\n",
      "KEY: 곳 / VALUE : 52\n",
      "KEY: 공 / VALUE : 53\n",
      "KEY: 과 / VALUE : 54\n",
      "KEY: 관 / VALUE : 55\n",
      "KEY: 광 / VALUE : 56\n",
      "KEY: 괴 / VALUE : 57\n",
      "KEY: 교 / VALUE : 58\n",
      "KEY: 구 / VALUE : 59\n"
     ]
    }
   ],
   "source": [
    "for key, value in list(word2int.items())[50:60]:\n",
    "    print('KEY: {} / VALUE : {}'.format(key, value))"
   ]
  },
  {
   "cell_type": "code",
   "execution_count": 13,
   "metadata": {},
   "outputs": [],
   "source": [
    "vocab_size = len(word2int)\n",
    "num_units = 256"
   ]
  },
  {
   "cell_type": "code",
   "execution_count": 15,
   "metadata": {},
   "outputs": [],
   "source": [
    "def _line_process(line, word2int, stop_words, maxlen):\n",
    "    \n",
    "    processed_line = np.array([word2int.get(ch, UNK_ID) for ch in line if ch not in stop_words])\n",
    "    \n",
    "    processed_line = processed_line[:maxlen]\n",
    "    \n",
    "    if len(processed_line) < maxlen:\n",
    "        processed_line = np.pad(processed_line, (0, maxlen - len(processed_line)),\n",
    "                                mode='constant',constant_values= 0)    \n",
    "    \n",
    "    train_input =  processed_line\n",
    "    train_output = np.concatenate([processed_line[1:], [processed_line[0]]], axis=-1)\n",
    "\n",
    "    return train_input, train_output"
   ]
  },
  {
   "cell_type": "markdown",
   "metadata": {},
   "source": [
    "### 학습에 사용될 데이터 형식은 다음과 같습니다"
   ]
  },
  {
   "cell_type": "code",
   "execution_count": 16,
   "metadata": {},
   "outputs": [
    {
     "name": "stdout",
     "output_type": "stream",
     "text": [
      "training input_decode : [  6 383 411   4  95  29 178   4 497 135 216 118   4 475 211]\n",
      "training input_encode : \" 옷 이   날 개 라   카 더 마 는   채 리\n",
      "\n",
      "training target_encode : [383 411   4  95  29 178   4 497 135 216 118   4 475 211   6]\n",
      "training target_decode: 옷 이   날 개 라   카 더 마 는   채 리 \"\n"
     ]
    }
   ],
   "source": [
    "print('training input_decode : {}'.format(_line_process(data[1500], word2int, stop_words, 15)[0]))\n",
    "print('training input_encode : {}'.format(\" \".join(int2word.get(idx) for idx in _line_process(data[1500], word2int, stop_words, 15)[0])))\n",
    "print()\n",
    "\n",
    "print(\"training target_encode : {}\".format(_line_process(data[1500], word2int, stop_words, 15)[1]))\n",
    "print(\"training target_decode: {}\".format(\" \".join(int2word.get(idx) for idx in _line_process(data[1500], word2int, stop_words, 15)[1])))"
   ]
  },
  {
   "cell_type": "code",
   "execution_count": 17,
   "metadata": {},
   "outputs": [
    {
     "name": "stderr",
     "output_type": "stream",
     "text": [
      "100%|██████████| 160451/160451 [01:58<00:00, 1354.70it/s]\n"
     ]
    }
   ],
   "source": [
    "train_inputs = []\n",
    "train_outputs = []\n",
    "\n",
    "for _data in tqdm(data):\n",
    "    _train_input, _train_output = _line_process(_data, word2int=word2int, stop_words=stop_words, maxlen=50)\n",
    "    \n",
    "    train_inputs.append(_train_input)\n",
    "    train_outputs.append(_train_output)"
   ]
  },
  {
   "cell_type": "code",
   "execution_count": 18,
   "metadata": {},
   "outputs": [],
   "source": [
    "train_inputs = np.stack(train_inputs, axis=0).astype(np.int32)\n",
    "train_outputs = np.stack(train_outputs, axis=0).astype(np.int32)"
   ]
  },
  {
   "cell_type": "code",
   "execution_count": 19,
   "metadata": {},
   "outputs": [],
   "source": [
    "def build_train_graph(inputs, targets):\n",
    "    \n",
    "    with tf.variable_scope('model', reuse=tf.AUTO_REUSE):\n",
    "        embedding = tf.concat([tf.zeros([1, num_units]), \n",
    "                               tf.get_variable('embedding', shape=[vocab_size - 1, num_units])], axis=0)\n",
    "\n",
    "        # This has shape = [Batch, Sequence, num_units]\n",
    "        embeded_seq = tf.nn.embedding_lookup(embedding, inputs, 'embedding_layer')\n",
    "        seq_len = tf.reduce_sum(tf.cast(tf.not_equal(inputs, 0),tf.float32), axis=-1)\n",
    "        lstm_cell = MyLSTMCell(num_units, 'lstm_cell')\n",
    "                \n",
    "        outputs, state = tf.nn.dynamic_rnn(lstm_cell, embeded_seq, \n",
    "                                   sequence_length=tf.to_int32(seq_len), \n",
    "                                   dtype=tf.float32)\n",
    "        \n",
    "        with tf.variable_scope('rnn', reuse=tf.AUTO_REUSE):\n",
    "            logits = tf.layers.dense(outputs, vocab_size, activation=tf.nn.relu, name='final_dense')\n",
    "        \n",
    "        loss = tf.contrib.seq2seq.sequence_loss(logits=logits, \n",
    "                                                targets=targets, \n",
    "                                                weights=tf.cast(\n",
    "                                                    tf.sequence_mask(seq_len, maxlen=50), tf.float32))\n",
    "\n",
    "        optimizer = tf.train.AdamOptimizer(learning_rate = 0.0005)\n",
    "        train_op = optimizer.minimize(loss)\n",
    "\n",
    "        return loss, train_op        "
   ]
  },
  {
   "cell_type": "code",
   "execution_count": 20,
   "metadata": {},
   "outputs": [],
   "source": [
    "def train():    \n",
    "    train_ds = tf.data.Dataset.from_tensor_slices((train_inputs, train_outputs))\n",
    "    train_ds = train_ds.batch(128).repeat(125)\n",
    "    iterator = train_ds.make_initializable_iterator()\n",
    "    train_in, train_tgt = iterator.get_next()\n",
    "    loss, train_op = build_train_graph(train_in, train_tgt)\n",
    "    \n",
    "    sess = tf.Session()\n",
    "    sess.run([tf.global_variables_initializer(), iterator.initializer])        \n",
    "    step = 0\n",
    "    loss_log = []\n",
    "    \n",
    "    saver = tf.train.Saver()\n",
    "    \n",
    "    while 1:\n",
    "        try:\n",
    "            _loss, _ = sess.run([loss, train_op])\n",
    "            step += 1                         \n",
    "            sys.stdout.write(\"\\rTraining loss: \" + str(_loss)[:5] \\\n",
    "                         + \"\\tStep : \" + str(step))\n",
    "            sys.stdout.flush()\n",
    "            \n",
    "            if step % 100 == 0 :\n",
    "                loss_log.append(_loss)\n",
    "        \n",
    "        except tf.errors.OutOfRangeError:\n",
    "            print(\"\\nFINISH\")            \n",
    "            break\n",
    "    \n",
    "    saver.save(sess, '/home/slayer/Tensorflow/dev_day_ckpt/ckpt_temp')\n",
    "    \n",
    "    return loss_log    "
   ]
  },
  {
   "cell_type": "markdown",
   "metadata": {},
   "source": [
    "### 학습을 시작합니다!!"
   ]
  },
  {
   "cell_type": "code",
   "execution_count": 21,
   "metadata": {},
   "outputs": [],
   "source": [
    "train_g = tf.Graph()"
   ]
  },
  {
   "cell_type": "code",
   "execution_count": 22,
   "metadata": {},
   "outputs": [
    {
     "name": "stdout",
     "output_type": "stream",
     "text": [
      "Training loss: 2.604\tStep : 156750\n",
      "FINISH\n"
     ]
    },
    {
     "data": {
      "image/png": "[encoded data removed]",
      "text/plain": [
       "<Figure size 432x288 with 1 Axes>"
      ]
     },
     "metadata": {
      "needs_background": "light"
     },
     "output_type": "display_data"
    }
   ],
   "source": [
    "with train_g.as_default():\n",
    "    loss_log = train()\n",
    "    plt.plot(loss_log)"
   ]
  },
  {
   "cell_type": "code",
   "execution_count": 10,
   "metadata": {},
   "outputs": [],
   "source": [
    "eval_g = tf.Graph()"
   ]
  },
  {
   "cell_type": "code",
   "execution_count": 11,
   "metadata": {},
   "outputs": [],
   "source": [
    "def build_eval_graph(inputs):\n",
    "    \n",
    "    with tf.variable_scope('model', reuse=tf.AUTO_REUSE):\n",
    "        embedding = tf.concat([tf.zeros([1, num_units]), \n",
    "                               tf.get_variable('embedding', shape=[vocab_size - 1, num_units])], axis=0)\n",
    "                \n",
    "        lstm_cell = MyLSTMCell(num_units, 'lstm_cell')\n",
    "\n",
    "        def _cond(i, *args):\n",
    "            return tf.less(i, 100)\n",
    "\n",
    "        def _body(i, input_seq, state):\n",
    "\n",
    "            this_token = tf.to_int32(input_seq[:, i])\n",
    "            embed = tf.nn.embedding_lookup(embedding, this_token, 'embedding_layer')            \n",
    "            output, next_state = lstm_cell(embed, state)\n",
    "            logits = tf.layers.dense(output, vocab_size, activation=tf.nn.relu, name='final_dense', reuse=tf.AUTO_REUSE)\n",
    "\n",
    "            next_token = tf.argmax(logits, axis=-1, output_type=tf.int32)\n",
    "            next_seq = tf.concat([input_seq[:, :(i + 1)], tf.expand_dims(next_token, -1)], axis=1)            \n",
    "            next_i = tf.add(i, 1)\n",
    "\n",
    "            return next_i, next_seq, next_state\n",
    "        \n",
    "        batch_size = tf.shape(inputs)[0]\n",
    "        initial_state = [tf.constant(0), inputs, lstm_cell.zero_state(batch_size)]\n",
    "        \n",
    "        with tf.variable_scope('rnn', reuse=tf.AUTO_REUSE):\n",
    "            _, output_seq, _ = tf.while_loop(cond = _cond,\n",
    "                                             body = _body, \n",
    "                                             shape_invariants=[tf.TensorShape([]), \n",
    "                                                               tf.TensorShape([None, None]), \n",
    "                                                               LstmStates(\n",
    "                                                                   c_state=tf.TensorShape([None, num_units]), \n",
    "                                                                   h_state=tf.TensorShape([None, num_units]))],\n",
    "                                             loop_vars= initial_state,\n",
    "                                             parallel_iterations=1, \n",
    "                                             back_prop=False)\n",
    "\n",
    "        return output_seq"
   ]
  },
  {
   "cell_type": "code",
   "execution_count": 14,
   "metadata": {
    "scrolled": false
   },
   "outputs": [
    {
     "name": "stdout",
     "output_type": "stream",
     "text": [
      "INFO:tensorflow:Restoring parameters from /home/slayer/Tensorflow/dev_day_ckpt/ckpt_temp\n"
     ]
    }
   ],
   "source": [
    "with eval_g.as_default():\n",
    "    sess = tf.Session()\n",
    "    inputs = tf.placeholder(tf.int32, shape=[1, 1])\n",
    "    output_seq = build_eval_graph(inputs)\n",
    "    saver = tf.train.Saver()\n",
    "    sess.run(tf.global_variables_initializer())\n",
    "    saver.restore(sess, '/home/slayer/Tensorflow/dev_day_ckpt/ckpt_temp')    "
   ]
  },
  {
   "cell_type": "code",
   "execution_count": 53,
   "metadata": {
    "scrolled": false
   },
   "outputs": [],
   "source": [
    "def get_result(start_token):\n",
    "    return \"\".join([int2word.get(x) for x in sess.run(output_seq, feed_dict={inputs: [[word2int.get(start_token)]]})[0]]).split('<EOS>')[0].split('<PAD>')[0]"
   ]
  },
  {
   "cell_type": "markdown",
   "metadata": {},
   "source": [
    "### 학습된 모델을 바탕으로 모델이 생성하는 단어는 어떨까요 ?"
   ]
  },
  {
   "cell_type": "code",
   "execution_count": 61,
   "metadata": {
    "scrolled": false
   },
   "outputs": [
    {
     "name": "stdout",
     "output_type": "stream",
     "text": [
      "토지 AI ver\n",
      "\n",
      "푸는 것이 아니었다. 그러나 그것은 그 일이 아니었다. 그러나 그것은 그\n",
      "떡을 거 아니요? 그 말이 어디 가지고 왔다고 이 사람이 우리 아이\n",
      "할 수 없었다. 그러나 그것은 그 일에 대해서는 이 나라 그 일을 모리고\n",
      "만 하지 않고 말했다. 그러나 그것은 그 일에 대해서는 이미 이 사람이\n",
      "흔들리고 다니는 것이 아니었다. 그러나 그것은 그 일이 아니었다. 그러나\n",
      "개 가지고 말이야. 그 사람들 이 사람아, 그 사람들 그 사람 아니가.\n",
      "경우는 그 말이 아니었다. 그러나 그것은 그 일이 아니었다. 그러나 그\n",
      "옆에 가서 지나가는 것이 아니었다. 그러나 그것은 그 일이 아니었다. 그러나\n",
      "번 들어가는 것이었다. 그러나 그것은 그 일에 대해서는 이미 이 사람이\n",
      "란 말이요. 그 사람들 이 사람이 어디 가고 저 말 하믄 못 가는 기이\n",
      "단 말이다. 그러나 그것은 그 일본 여자들의 모이를 하고 이 사람이 어디\n",
      "염치를 지어 보이는 것이다. 그러나 그것은 그 말이 아니었다. 그러나 그것은\n",
      "얻어 왔는데 그 사람들 이 사람아, 그 사람들 우리 조상들이 그런 말\n",
      "겉은 사람들이 모두 그 사람 아니믄 그 말이 아니가. 그 사람들 우리 \n",
      "물어보고 서 일이 없었다. 그러나 그것은 그 일이 아니었다. 그러나 그것은\n",
      "객집 주인이 그 사람이 그런 것 같은데 그것은 그 말 아니가. 그러나\n",
      ", 아무리 세상에 이 사람이 없어도 살아 기고 살아 기\n",
      "순간 그 자신의 말이 나왔다. 그리고 그 말에 대한 의식에 가서 사라지고\n",
      "육신이 나는 것이 아니었다. 그러나 그것은 그 일이 아니었다. 그러나\n",
      "쉬었다. 그러나 그것은 그 말이 아니었다. 그러나 그것은 그 일이 아니었다.\n",
      "공부도 하고 그 말이 아니라 하더라도 그 사람들 우리 조용하는 그 사람들\n",
      "심정이 없는 것이 아니었다. 그러나 그것은 그 일이 아니었다. 그러나\n",
      "틀림없는 일이었다. 그러나 그것은 그 일이 아니었다. 그러나 그것은 이\n",
      "목소리는 아니었다. 그러나 그것은 그 말이 아니었다. 그러나 그것은 그\n",
      "령이 없는 것이 아니었다. 그러나 그것은 그 일이 아니었다. 그러나 그것은\n",
      "뒷모이 아니었다. 그러나 그것은 그 일에 대해서는 이 나라 그 일을 모를\n",
      "붙여문다.\n",
      "남자들이 이 지방 사람들이 모두 다 아는 일이 없고 그 사람 고집이나\n",
      "염치를 지어 보이는 것이다. 그러나 그것은 그 말이 아니었다. 그러나 그것은\n",
      "터 보고 나서 그런 말 하지 않고 살아 기십니다.\"\n",
      "범이 없는 것이다. 그러나 그것은 그 일에 대해서는 이 나라 그 일을 모리고\n",
      "져서 그 사람이 그런 거를 우리 아니라 그 말이요? 그 사람들 이\n",
      "극단적이라 하여 그 말 대치는 것은 아니었다. 그러나 그것은 그 일이\n",
      "년 전에 이 사람이 어디 가고 저 말 하믄 못 가믄 그만이지. 그 사람\n",
      "욕을 했고 그 말이 없는 사람들이 아니라 그 말이 없는 사람이 아니라\n",
      "끔한 말을 하고 어리다.\n",
      "결국 그들이 그 사람들 중에 서로 이 사람이 어디 가고 가는 거지요?\n",
      "존 가까이 이 나배를 보는 것이 없는 것이 아니지요. 그러나 그것은\n",
      "현실에 대한 감정을 모리고 나왔다 하더라도 그 사람들이 그 사람들\n",
      "발을 어 들여다본다. 그리고 그 말에 대한 이들은 이 집에서  나왔다.\n",
      "년 전에 이 사람이 어디 가고 저 말 하믄 못 가믄 그만이지. 그 사람\n",
      "복동네는 말했다.\n",
      "헛소리를 지어 보이고 보니 그 사람들 중에 가서 살아 기고 살아 기\n",
      "끔한 말을 하고 어리다.\n",
      "와 그리 말하는 거는 아니지만 그 사람 고집 아니믄 그 말 들은께 우\n",
      "잖아요? 그 사람들 이 사람이 어디 가고 저 아이 아이고 나는 그런\n",
      "게 하는 것이 아니었다. 그러나 그것은 그 일이 아니었다. 그러나 그것은\n",
      "묻는다. 그러나 그는 그 말을 들은 것이다. 그러나 그것은 그 일에 대한 그\n",
      "힌 사람이 없었다. 그러나 그 사람들 우리 조용하는 아들 아니까? 그러나\n",
      "녁상이 들어왔다. 그러나 그것은 그 일이 아니었다. 그러나 그것은\n",
      "3장 마을\n",
      "누구에게 말했다. 그러나 그것은 그 말이 아니었다. 그러나 그것은 그 일\n",
      "3장 마을\n",
      "휘는 그 말을 들으나 하고 말했다.\n",
      "갖고 하는 말이었다. 그러나 그 말에 대하여 그 자신이 그 사람들 모를 일이\n",
      "슴이 들어서 그런 말을 하고 그런 말 하는 것도 아니고 그 말이 아니가. \n",
      "풀어진 것 같은 것이 없었다. 그러나 그것은 그 일에 대해서는 이미 이\n",
      "김두수는 이 나무같이 어 수 없이 말했다.\n",
      "활자라 하지 않는 것이 아니었다. 그러나 그것은 그 일이 아니었다. 그러나\n",
      "핫...\"\n",
      "놀라서 말했다. 그러나 그 말에 대한 이들은 이 집에서  나왔다. 그\n",
      "! 하고 물었다. 그러나 그것은 이미 없었다. 그러나 그것은 이\n",
      "끌고 나가는 것이 이 나라 없는 것도 아니지 않아요? 그 사람들이 그\n",
      "결국 그들이 그 사람들 중에 서로 이 사람이 어디 가고 가는 거지요?\n",
      "끼여들지 않고 말했다.\n",
      "민지로 지는 것이 아니었다. 그러나 그것은 그 일에 대해서는 이미 이\n",
      "웃는 것 같다. 그러나 그것은 그 말이 아니었다. 그러나 그것은 그의\n",
      "번 들어가는 것이었다. 그러나 그것은 그 일에 대해서는 이미 이 사람이\n",
      "최참서의 사람들이 모두 그 일이 없었다. 그러나 그것은 그 일이 아니었다.\n",
      "한 사람이 아니었다. 그러나 그것은 그 일이 아니었다. 그러나 그것은\n",
      "신문에서 한 말이었다.\n",
      "친일 만에 가서 살아 기라고 그러지요. 그 사람들 우리 조상들이\n",
      "교사의 말이었다.\n",
      "능구이 아니었다. 그러나 그것은 그 일에 대해서는 이미 이 사람이\n",
      "왕사의 사상이 아니었다. 그러나 그것은 그 일이 아니었다. 그러나 그것은\n",
      "잖아요? 그 사람들 이 사람이 어디 가고 저 아이 아이고 나는 그런\n",
      "벌어지고 말했다. 그러나 그 말에 대한 이들은 이 집에서 일본에 가서 \n",
      "더 이상 말하지 않는 것이 아니었다. 그러나 그것은 그 일이 아니었다. 그러나\n",
      "엉거주 일어서서 말했다.\n",
      "운전수가 말했다.\n",
      "올라가고 하는 말이었다. 그러나 그 말에 대하여 그 자신이 그 사람을 보고\n",
      "멀리 가는 것은 아니었다. 그러나 그것은 그 일이 아니었다. 그러나 그것은\n",
      "름이 없는 것이다. 그러나 그것은 그 일에 대해서는 이 나라 그 일을\n",
      "밀어다.\n",
      "옥이네는 그 말을 들었다. 그리고 그 말에 대한 이들은 이 집에서  나왔다.\n",
      "후 그 아이는 그 말 대가 아니었다. 그러나 그것은 그 일이 아니었다.\n",
      "아니었다. 그러나 그것은 그 말이 아니었다. 그러나 그것은 그 일이 아니었다.\n",
      "좋은 일이 없었다. 그러나 그것은 그 일이 아니었다. 그러나 그것은 그 일\n",
      "떡을 거 아니요? 그 말이 어디 가지고 왔다고 이 사람이 우리 아이\n",
      "히 이 집에서 아이들을 가리 아니 하고 그리고 이 집에 가서 살아 기\n",
      "준구는 이 나라 하지 않는다. 그 말을 했다. 그러나 그것은 그 일이 아니었다.\n",
      "깊은 사람들이 모두 그 사람들이 모두 이제 그 집에 가서 자식을 보고\n",
      "섰다. 그러나 그것은 그 자신이 없었고 그 말 대가 명 같은 것 같은 것을\n",
      "서 그들은 그 말 대신 하나 없는 일이고 이 나라 없는 일이고 그 사람\n",
      "히 이 집에서 아이들을 가리 아니 하고 그리고 이 집에 가서 살아 기\n",
      "우리 조용하는 아들 아니까? 그러나 그 사람들 이 세상에 이런 말 하는\n",
      "긴데 그 말 하시는 거는 아니지만 그 사람 고집 아니믄 그 말이 \n",
      "큼 어 수 없는 일이었다. 그러나 그것은 그 일에 대해서는 이미 이\n",
      "얼굴을 들고 나왔다. 그리고 그 말에 대한 감정을 부정하는 것이 없었다.\n",
      "래서 그 말을 들은 것이 없는 것이 아니었다. 그러나 그것은 이미 이\n"
     ]
    }
   ],
   "source": [
    "print(\"토지 AI ver\\n\")\n",
    "for _ in range(100):\n",
    "    print (get_result(random.choice(use_words)))"
   ]
  }
 ],
 "metadata": {
  "kernelspec": {
   "display_name": "Python 3",
   "language": "python",
   "name": "python3"
  },
  "language_info": {
   "codemirror_mode": {
    "name": "ipython",
    "version": 3
   },
   "file_extension": ".py",
   "mimetype": "text/x-python",
   "name": "python",
   "nbconvert_exporter": "python",
   "pygments_lexer": "ipython3",
   "version": "3.6.5"
  }
 },
 "nbformat": 4,
 "nbformat_minor": 2
}
